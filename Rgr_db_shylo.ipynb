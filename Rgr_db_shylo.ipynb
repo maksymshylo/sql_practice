{
    "metadata": {
        "kernelspec": {
            "name": "SQL",
            "display_name": "SQL",
            "language": "sql"
        },
        "language_info": {
            "name": "sql",
            "version": ""
        }
    },
    "nbformat_minor": 2,
    "nbformat": 4,
    "cells": [
        {
            "cell_type": "markdown",
            "source": [
                "# `Розрахункова БД`\n",
                "\n",
                "## Варіант 16\n",
                "\n",
                "## Тема: `Информационная система регистратуры поликлиники`\n",
                "\n",
                "БД должна хранить сведения об участках, которые относятся к поликлинике, о расписании работы участковых врачей , информацию о врачах, а также карточки пациентов. \n",
                "\n",
                "Карточка имеет номер, в нее заносятся сведения о каждом посещении поликлиники пациентом: дата посещения, жалобы, предварительный диагноз, назначения, выписан или нет больничный лист, и, если выписан, то на какой срок, имя врача. \n",
                "\n",
                "В карточке на первой странице указаны также фамилия, имя , отчество пациента, его домашний адрес, пол и возраст, номер страхового полиса, дата заполнения карточки. В расписании работы врачей указывается, на каком участке работает врач, дни и часы приема, номер кабинета.\n",
                "\n",
                " Врач может обслуживать более одного участка. В случае увольнения врача его участок(участки)передается другим врачам. Данные о враче, которые хранятся в БД, - это фамилия, имя отчество, категория, стаж работы, дата рождения. \n",
                " \n",
                " В карточку больного при каждом его посещении поликлиники врачом заносится очередная запись. Работники регистратуры регистрируют пациента, заполняя первую страницу его карточки. \n",
                " \n",
                " Уволить врача имеет право только заведующий поликлиникой. Он удаляет из базы сведения о враче и передает его больных другому врачу. \n",
                "\n",
                "\n",
                "## Работникам поликлиники могут потребоваться следующие сведения:\n",
                "- Адрес данного больного, дата последнего посещения поликлиники и диагноз? `YES`\n",
                "- Фамилия и инициалы лечащего врача данного больного? `YES`\n",
                "- Номер кабинета, дни и часы приема данного врача? `YES`\n",
                "- Больные, находящиеся в данный момент на лечении у данного врача; `YES`\n",
                "- Назначения врачей при указанном заболевании? `YES`\n",
                "- Кто работает в данный момент в указанном кабинете? `YES`\n",
                "- Дата последнего обращения в поликлинику невыписанного больного? `YES`\n",
                "- Какое количество больных обслужил за последний месец каждый из врачей поликлиники? \n",
                "\n",
                "\n",
                " Расписание работы врачей поликлиники, которое можно повесить в холле, также должно формироваться автоматически."
            ],
            "metadata": {
                "azdata_cell_guid": "b1931f95-5749-44bd-b242-1bf8a82dd556"
            }
        },
        {
            "cell_type": "code",
            "source": [
                "use master\n",
                ""
            ],
            "metadata": {
                "azdata_cell_guid": "90835b33-f8af-4d18-b3b4-e050b29cb52f"
            },
            "outputs": [
                {
                    "output_type": "display_data",
                    "data": {
                        "text/html": "Commands completed successfully."
                    },
                    "metadata": {}
                },
                {
                    "output_type": "display_data",
                    "data": {
                        "text/html": "Total execution time: 00:00:00.098"
                    },
                    "metadata": {}
                }
            ],
            "execution_count": 1
        },
        {
            "cell_type": "code",
            "source": [
                "DROP DATABASE SYSTEM_REGISTRATION_HOSPITAL\r\n",
                "CREATE DATABASE SYSTEM_REGISTRATION_HOSPITAL"
            ],
            "metadata": {
                "azdata_cell_guid": "58d434ed-c8ce-4272-9095-4f57f77d8cbc",
                "tags": []
            },
            "outputs": [
                {
                    "output_type": "display_data",
                    "data": {
                        "text/html": "Commands completed successfully."
                    },
                    "metadata": {}
                },
                {
                    "output_type": "display_data",
                    "data": {
                        "text/html": "Total execution time: 00:00:00.375"
                    },
                    "metadata": {}
                }
            ],
            "execution_count": 2
        },
        {
            "cell_type": "code",
            "source": [
                "USE SYSTEM_REGISTRATION_HOSPITAL"
            ],
            "metadata": {
                "azdata_cell_guid": "b0a581e1-4312-46db-bb3a-813ccf074689"
            },
            "outputs": [
                {
                    "output_type": "display_data",
                    "data": {
                        "text/html": "Commands completed successfully."
                    },
                    "metadata": {}
                },
                {
                    "output_type": "display_data",
                    "data": {
                        "text/html": "Total execution time: 00:00:00.280"
                    },
                    "metadata": {}
                }
            ],
            "execution_count": 3
        },
        {
            "cell_type": "code",
            "source": [
                "CREATE TABLE Patients(\r\n",
                "    patinent_id INT IDENTITY PRIMARY KEY,\r\n",
                "    snm_patient VARCHAR(55) NOT NULL,              --surname,name and middle name of patient\r\n",
                "    home_adress VARCHAR(55) NOT NULL,\r\n",
                "    sex VARCHAR(1) CONSTRAINT check_sex CHECK (sex IN('m','f')),\r\n",
                "    age INT NOT NULL,\r\n",
                "    insurance_policy_number INT NOT NULL,\r\n",
                "    data_creating_patient_card DATE NOT NULL\r\n",
                ");"
            ],
            "metadata": {
                "azdata_cell_guid": "b5205c54-620d-415b-980b-20f9d8cc5c41",
                "tags": [
                    "hide_input"
                ]
            },
            "outputs": [
                {
                    "output_type": "display_data",
                    "data": {
                        "text/html": "Commands completed successfully."
                    },
                    "metadata": {}
                },
                {
                    "output_type": "display_data",
                    "data": {
                        "text/html": "Total execution time: 00:00:00.009"
                    },
                    "metadata": {}
                }
            ],
            "execution_count": 4
        },
        {
            "cell_type": "code",
            "source": [
                "CREATE TABLE Doctors(\r\n",
                "    doctor_id INT IDENTITY PRIMARY KEY NOT NULL,\r\n",
                "    snm_doctor VARCHAR(55) NOT NULL,\r\n",
                "    category VARCHAR(55) NOT NULL,\r\n",
                "    work_experience INT NOT NULL,\r\n",
                "    birth_date DATE NOT NULL\r\n",
                ");"
            ],
            "metadata": {
                "azdata_cell_guid": "6daf38ec-7233-47c2-9b0c-2728b0ad7399",
                "tags": [
                    "hide_input"
                ]
            },
            "outputs": [
                {
                    "output_type": "display_data",
                    "data": {
                        "text/html": "Commands completed successfully."
                    },
                    "metadata": {}
                },
                {
                    "output_type": "display_data",
                    "data": {
                        "text/html": "Total execution time: 00:00:00.006"
                    },
                    "metadata": {}
                }
            ],
            "execution_count": 5
        },
        {
            "cell_type": "code",
            "source": [
                "CREATE TABLE Departments(\r\n",
                "    Department_id INT IDENTITY PRIMARY KEY,\r\n",
                "    DepartmentName VARCHAR(15) NOT NULL\r\n",
                ")"
            ],
            "metadata": {
                "azdata_cell_guid": "3e20e4b4-d64e-47b0-92d6-4c7193bb7aba",
                "tags": [
                    "hide_input"
                ]
            },
            "outputs": [
                {
                    "output_type": "display_data",
                    "data": {
                        "text/html": "Commands completed successfully."
                    },
                    "metadata": {}
                },
                {
                    "output_type": "display_data",
                    "data": {
                        "text/html": "Total execution time: 00:00:00.007"
                    },
                    "metadata": {}
                }
            ],
            "execution_count": 6
        },
        {
            "cell_type": "code",
            "source": [
                "CREATE TABLE Doctors_work_schedule(\r\n",
                "    doctors_work_schedule_id INT CONSTRAINT i_doctor_schedule FOREIGN KEY REFERENCES Doctors(doctor_id) ON DELETE CASCADE,\r\n",
                "    hospital_department INT CONSTRAINT i_h_d FOREIGN KEY REFERENCES Departments(Department_id) ON DELETE CASCADE,\r\n",
                "    day_week VARCHAR(15) CONSTRAINT check_day CHECK (day_week IN('понедельник','вторник','среда','четверг','пятница')),\r\n",
                "    vis_h1 INT NOT NULL,\r\n",
                "    vis_h2 INT NOT NULL,\r\n",
                "    cabinet_number INT NOT NULL,\r\n",
                ");"
            ],
            "metadata": {
                "azdata_cell_guid": "858691fb-efc7-4f0a-b82b-259946ea6786",
                "tags": [
                    "hide_input"
                ]
            },
            "outputs": [
                {
                    "output_type": "display_data",
                    "data": {
                        "text/html": "Commands completed successfully."
                    },
                    "metadata": {}
                },
                {
                    "output_type": "display_data",
                    "data": {
                        "text/html": "Total execution time: 00:00:00.009"
                    },
                    "metadata": {}
                }
            ],
            "execution_count": 7
        },
        {
            "cell_type": "code",
            "source": [
                "CREATE TABLE Patient_cards(\r\n",
                "    card_id  INT IDENTITY PRIMARY KEY NOT NULL,\r\n",
                "    doctor_id INT CONSTRAINT i_doctor FOREIGN KEY REFERENCES Doctors(doctor_id) ON DELETE CASCADE,\r\n",
                "    patinent_id  INT CONSTRAINT i_patinent FOREIGN KEY REFERENCES Patients(patinent_id) ON DELETE CASCADE,\r\n",
                "    visiting_date DATE NOT NULL,\r\n",
                "    illness VARCHAR(50) NOT NULL,\r\n",
                "    diagnosis VARCHAR(50),\r\n",
                "    medication VARCHAR(50),\r\n",
                "    leaving INT CONSTRAINT check_leaving CHECK (leaving IN(0,1)),\r\n",
                "    days_leaving INT,\r\n",
                ");"
            ],
            "metadata": {
                "azdata_cell_guid": "c4bc3877-fb70-43c2-9e95-612d6b2b1a4e",
                "tags": [
                    "hide_input"
                ]
            },
            "outputs": [
                {
                    "output_type": "display_data",
                    "data": {
                        "text/html": "Commands completed successfully."
                    },
                    "metadata": {}
                },
                {
                    "output_type": "display_data",
                    "data": {
                        "text/html": "Total execution time: 00:00:00.008"
                    },
                    "metadata": {}
                }
            ],
            "execution_count": 8
        },
        {
            "cell_type": "markdown",
            "source": [
                "## Заповнюємо дані до таблиці `Пацієнти`"
            ],
            "metadata": {
                "azdata_cell_guid": "3f720030-949e-4253-a06b-d1fb4cc07c7f"
            }
        },
        {
            "cell_type": "code",
            "source": [
                "INSERT INTO Patients (snm_patient,        home_adress,           sex, age, insurance_policy_number, data_creating_patient_card)\r\n",
                "VALUES ('Богданов Матвей Иванович',       'Фелевского дом 37',     'm',45,346286,     '1999-03-10'),\r\n",
                "        ('Дмитриев Харитон Георгиевич',    'Киевская дом 84',       'm',56,48562,    '1998-12-20'),\r\n",
                "        ('Орехов Адольф Демьянович',       'Борщаговская дом 75',   'm',14,246847,     '1995-03-29'),\r\n",
                "        ('Лебедев Николай Агафонович',     'Сельская дом 85',       'm',45,275345,    '1994-12-23'),\r\n",
                "        ('Щербаков Мирон Станиславович',   'Борщаговская дом 27',   'm',23,28274,     '1993-03-10'),\r\n",
                "        ('Матвеев Игорь Русланович',       'Сельская дом 11',       'm',23,234927,   '1995-12-15'),\r\n",
                "        ('Кириллов Вольдемар Юлианович',   'Воскресенская дом 27',  'm',24,26324,      '1992-12-15'),\r\n",
                "        ('Уваров Рудольф Евгеньевич',      'Независсимости дом 16', 'm',56,873486,     '1994-09-18'),\r\n",
                "        ('Одинцов Геннадий Владиславович', 'Киевская дом 85',       'm',67,28624,      '1995-05-18'),\r\n",
                "        ('Панфилов Ипполит Тимурович',     'Воскресенская дом 64',  'm',13,8224,      '1994-06-19'),\r\n",
                "        ('Смирнов Алексей Яковлевич',      'Рабочая дом 97',        'm',12,9792,   '2008-03-25'),\r\n",
                "\r\n",
                "        ('Зайцева Альберта Онисимовна',    'Донна дом 27',          'f',26,8782,     '1999-09-30'),\r\n",
                "        ('Мамонтова Динара Дмитриевна',    'Роджинская дом 88',     'f',30,12816,      '1999-06-13'),\r\n",
                "        ('Копылова Дэнна Альбертовна',     'Пушкинская дом 32',     'f',37,824134,    '2003-05-14'),\r\n",
                "        ('Терентьева Юлиана Степановна',   'Киевская дом 4',        'f',76,64348,   '2007-05-26'),\r\n",
                "        ('Матвеева Архелия Михайловна',    'Международная дом 26',  'f',36,822634,   '2005-05-29'),\r\n",
                "        ('Евсеева Данута Всеволодовна',    'Рабочая дом 92',        'f',36,82346,  '2000-04-13'),\r\n",
                "        ('Кулакова Винетта Федотовна',     'Дня Победы дом 30',     'f',26,834824,   '1994-07-12'),\r\n",
                "        ('Петухова Азалия Иринеевна',      'Фелевского дом 58',     'f',37,123474,   '1993-07-24'),\r\n",
                "        ('Осипова Изабелла Артемовна',     'Воскресенская дом 47',  'f',19,92724,      '1997-03-17'),\r\n",
                "        ('Евсеева Дэнна Валерьяновна',     'Роджинская дом 83',     'f',26,28364,     '2007-07-24'),\r\n",
                "        ('Гурьева Габриэлла Серапионовна', 'Роджинская дом 20',     'f',29,23464,     '2019-04-13'),\r\n",
                "\r\n",
                "        ('Ларионов Вячеслав Юхимович',     'Донна дом 79',          'm',50,263454,    '1969-05-24'),\r\n",
                "        ('Наумов Абрам Проклович',         'Киевская дом 31',       'm',48,2347674,   '2012-01-26'),\r\n",
                "        ('Власов Альберт Иринеевич',       'Будечева дом 33',       'm',39,238246,    '1979-05-30'),\r\n",
                "        ('Кошелев Виталий Наумович',       'Сельская дом 6',        'm',58,2348767,    '1989-07-14'),\r\n",
                "        ('Маслов Семен Богуславович',      'Будечева дом 70',       'm',69,238485,     '2016-08-21'),\r\n",
                "        ('Петухов Казимир Парфеньевич',    'Героев Дня дом 59',     'm',48,234675,     '1999-09-12'),\r\n",
                "        ('Логинов Евдоким Демьянович',     'Киевская дом 75',       'm',45,234692,   '1998-06-23'),\r\n",
                "        ('Мишин Руслан Рубенович',         'Сельская дом 29',       'm',37,826234,   '1975-12-30'),\r\n",
                "        ('Мамонтов Матвей Митрофанович',   'Реленского дом 45',     'm',12,2832348,   '1974-12-15'),\r\n",
                "        ('Мельников Зиновий Донатович',    'Держительская дом 48',  'm',35,238635,     '1983-12-26'),\r\n",
                "        ('Владимирова Дарина Юрьевна',     'Фелевского дом 81',     'f',45,926725,     '1999-02-25'),\r\n",
                "        ('Данилова Эдда Ярославовна',      'Воскресенская дом 69',  'f',67,236725,     '1989-03-10'),\r\n",
                "        ('Исакова Лариса Тимуровна',       'Героев Дня дом 19',     'f',26,82653,      '2000-04-30'),\r\n",
                "        ('Калашникова Фаина Дмитрьевна',   'Независсимости дом 54', 'f',26,28264,      '2006-06-20'),\r\n",
                "        ('Трофимова Веселина Богуславовна','Киевская дом 69',       'f',49,26346,      '2007-06-10'),\r\n",
                "        ('Мясникова Неонила Григорьевна',  'Сельская дом 70',       'f',56,234385,     '2019-06-20'),\r\n",
                "        ('Наумова Эстелла Юлиановна',      'Рабочая дом 91',        'f',55,273346,     '2017-05-20'),\r\n",
                "        ('Власова Кира Митрофановна',      'Дня Победы дом 33',     'f',36,872675,     '1995-12-10'),\r\n",
                "        ('Большакова Версавия Романовна',  'Ришельевская 48',        'f',24,83634,     '1998-12-10');"
            ],
            "metadata": {
                "azdata_cell_guid": "e5b5ea76-95de-4e01-b2ea-26dc243bd164",
                "tags": [
                    "hide_input"
                ]
            },
            "outputs": [
                {
                    "output_type": "display_data",
                    "data": {
                        "text/html": "(41 rows affected)"
                    },
                    "metadata": {}
                },
                {
                    "output_type": "display_data",
                    "data": {
                        "text/html": "Total execution time: 00:00:00.022"
                    },
                    "metadata": {}
                }
            ],
            "execution_count": 9
        },
        {
            "cell_type": "code",
            "source": [
                "INSERT INTO Doctors(snm_doctor,category,work_experience,birth_date)\r\n",
                "VALUES ('Берёзкина Стела Эммануиловна', 'психотерапевт', 11, '1974-03-3'),\r\n",
                "('Каржов Александр Архипович', 'дерматолог',      19, '1975-10-29'),\r\n",
                "('Щербатыха Зоя Радиславовна', 'офтальмолог',     22, '1968-12-27'),\r\n",
                "('Кригунин Валерий Ростиславович', 'хирург',       2, '1995-12-22'),\r\n",
                "('Заврагин Николай Валериевич', 'кардиолог',      22, '1989-09-22'),\r\n",
                "('Гершкович Андриян Евграфович', 'терапевт',      23, '1988-11-4'),\r\n",
                "('Каничев Николай Валентинович','офтальмолог',     35, '1981-05-13'),\r\n",
                "('Юдачёва Инесса Родионовна', 'терапевт',         24, '1980-03-27'),\r\n",
                "('Берёзкина Стела Эммануиловна', 'психотерапевт', 15, '1972-12-14'),\r\n",
                "('Железнова Доминика Василиевна', 'кардиолог',    24, '1985-04-11');"
            ],
            "metadata": {
                "azdata_cell_guid": "3eb75bca-a9ca-49aa-8005-50e9a41302d7",
                "tags": [
                    "hide_input"
                ]
            },
            "outputs": [
                {
                    "output_type": "display_data",
                    "data": {
                        "text/html": "(10 rows affected)"
                    },
                    "metadata": {}
                },
                {
                    "output_type": "display_data",
                    "data": {
                        "text/html": "Total execution time: 00:00:00.004"
                    },
                    "metadata": {}
                }
            ],
            "execution_count": 10
        },
        {
            "cell_type": "code",
            "source": [
                "INSERT INTO Departments(DepartmentName )\r\n",
                "VALUES('онкология'),\r\n",
                "      ('кардиология'),\r\n",
                "      ('ендокринология'),\r\n",
                "      ('хирургия'),\r\n",
                "      ('гастрология');"
            ],
            "metadata": {
                "azdata_cell_guid": "57aa9ce0-b00c-43e0-b8ac-df338124e89d",
                "tags": [
                    "hide_input"
                ]
            },
            "outputs": [
                {
                    "output_type": "display_data",
                    "data": {
                        "text/html": "(5 rows affected)"
                    },
                    "metadata": {}
                },
                {
                    "output_type": "display_data",
                    "data": {
                        "text/html": "Total execution time: 00:00:00.007"
                    },
                    "metadata": {}
                }
            ],
            "execution_count": 11
        },
        {
            "cell_type": "code",
            "source": [
                "INSERT INTO Doctors_work_schedule(doctors_work_schedule_id, hospital_department, day_week,vis_h1,vis_h2,cabinet_number)\r\n",
                "VALUES(1,2, 'понедельник', 12,17 ,393),\r\n",
                "    (2,1, 'среда',        8,18, 401),\r\n",
                "    (3,2, 'четверг',     10,15 ,329),\r\n",
                "    (4,2, 'пятница',      9,18 ,40),\r\n",
                "    (5,4, 'понедельник', 11,17 ,475),\r\n",
                "    (6,3, 'четверг',     12,14 ,295),\r\n",
                "    (7,3, 'вторник',      7,14 ,383),\r\n",
                "    (8,5, 'пятница',      7,14 ,42),\r\n",
                "    (9,1, 'вторник',     10,15, 436),\r\n",
                "    (10,3, 'среда',      12,14,368),\r\n",
                "    (9,4, 'вторник',    12,16,368),\r\n",
                "    (5,3, 'понедельник', 13,19,566),\r\n",
                "    (3,2, 'среда',       12,19,677),\r\n",
                "    (8,3, 'четверг',     13,18,567),\r\n",
                "    (9,5, 'вторник',     8,15, 434),\r\n",
                "    (3,3, 'понедельник', 8,17, 789);"
            ],
            "metadata": {
                "azdata_cell_guid": "b1fcb6d1-8e39-47a1-8774-b78e88fa846b",
                "tags": [
                    "hide_input"
                ]
            },
            "outputs": [
                {
                    "output_type": "display_data",
                    "data": {
                        "text/html": "(16 rows affected)"
                    },
                    "metadata": {}
                },
                {
                    "output_type": "display_data",
                    "data": {
                        "text/html": "Total execution time: 00:00:00.018"
                    },
                    "metadata": {}
                }
            ],
            "execution_count": 12
        },
        {
            "cell_type": "code",
            "source": [
                "INSERT INTO Patient_cards(doctor_id,patinent_id,visiting_date,illness,diagnosis,medication,leaving ,days_leaving)\r\n",
                "VALUES(4 , 35 , '2018-3-18' , 'прищи на теле' , 'грви' , 'ценузинол' , 0 , 3),\r\n",
                "(1 , 17 , '2019-09-23' ,  'ожег' ,              'грви' , 'каромазин' , 1 , 2),\r\n",
                "(2 , 16 , '2018-03-29' , 'высокое давление' ,   'фанинез' , 'фенолонин' , 0 , 9),\r\n",
                "(8 , 23 , '2019-06-28' , 'упадок сил' ,         'туберкулез' , 'мезим' , 1 , 10),\r\n",
                "(7 , 36 , '2019-01-6' ,   'головная боль' ,     'перелом без смещения' , 'горинол' , 1 , 5),\r\n",
                "(4 , 26 , '2018-01-5' ,  'прищи на теле' ,      'тахикардия' , 'локалинон' , 0 , 11),\r\n",
                "(3 , 27 , '2019-09-2' ,  'зубная боль' ,        'остеохондроз' , 'ценузинол' , 1 , 3),\r\n",
                "(5 , 40 , '2018-10-25' , 'плохой сон' ,         'сотрясение' , 'фенолонин' , 0 , 0),\r\n",
                "(10 , 30, '2018-03-18' ,  'кашель' ,            'кареиес' ,    'горинол' , 0 , 20),\r\n",
                "(2 , 22 , '2018-05-15' ,  'боль в животе' ,     'сдвиг темяной части главной кости' , 'аротолок' , 0 , 4),\r\n",
                "(6 , 26 , '2018-06-17' ,  'прищи на теле' ,     'ожег 2го степеня' , 'локалинон' , 1 , 7),\r\n",
                "(4 , 37 , '2018-02-16' ,  'ушиб' ,              'катаракта' ,  'сторовазин' , 1 , 18),\r\n",
                "(9 , 39 , '2018-12-18' , 'плохое самочуствие' , 'туберкулез' , 'валокадин' , 1 , 20),\r\n",
                "(8 , 5 ,  '2018-11-11' , 'упадок сил' ,         'перелом без смещения' , 'горинол' , 1 , 13),\r\n",
                "(8 , 10 , '2018-03-24' , 'высокое давление' ,   'катаракта' , 'веторн' , 1 , 20),\r\n",
                "(7 , 37 , '2019-02-11' , 'прищи на теле' ,      'катаракта' , 'ценузинол' , 1 , 1),\r\n",
                "(5 , 28 , '2019-04-30' ,  'головная боль' ,     'перелом без смещения', 'маолокадин' , 0 , 15),\r\n",
                "(4 , 4 ,  '2018-04-3' ,   'профосмотр' ,        'сотрясение' , 'укуленон' , 0 , 2),\r\n",
                "(5 , 20 , '2019-01-27' ,  'боль в животе' ,     'ожег 2го степеня' ,'валокадин' , 0 , 5),\r\n",
                "(10 , 2 , '2018-07-26' ,  'ранение' ,           'сдвиг темяной части' ,'аротолок' , 1 , 10),\r\n",
                "(4 , 15 , '2019-04-14' ,  'плохое самочуствие', 'стенокардия' , 'форолиманин' , 0 , 5),\r\n",
                "(7 , 26 , '2019-12-6' ,  'боль в животе' ,      'кареиес' , 'горинол' , 1 , 19),\r\n",
                "(6 , 3 ,  '2018-04-29' ,  'боль в животе' ,     'ожег 2го степеня' , 'сторовазин' , 0 , 17),\r\n",
                "(7 , 27 , '2019-02-21' ,  'упадок сил' ,        'туберкулез' , 'укуленон' , 0 , 18),\r\n",
                "(3 , 37 , '2019-08-6' ,   'прищи на теле' ,     'катаракта' , 'аворон' , 1 , 6),\r\n",
                "(10 , 22, '2018-09-5' ,   'плохой сон' ,        'остеохондроз' , 'ценузинол' , 0 , 4),\r\n",
                "(5 , 19 , '2018-09-7' ,   'ушиб' ,              'туберкулез' , 'маолокадин' , 1 , 13),\r\n",
                "(5 , 6 ,  '2018-01-25' ,  'прищи на теле' ,     'остеохондроз' , 'чамотоно' , 0 , 10),\r\n",
                "(7 , 39 , '2018-07-23' ,  'головная боль' ,     'сотрясение' , 'феноломинол' , 1 , 3),\r\n",
                "(5 , 13 , '2019-04-16' ,  'зубная боль' ,       'фанинез' , 'чамотоно' , 1 , 10),\r\n",
                "(9 , 34 , '2019-03-1' ,   'ушиб' ,              'сдвиг темяной части' , 'мезим' , 1 , 3),\r\n",
                "(2 , 6 ,  '2018-08-18' ,  'высокое давление' ,  'туберкулез' , 'укуленон' , 1 , 5),\r\n",
                "(7 , 16 , '2018-06-21' ,  'низкое давление' ,   'грви' , 'каромазин', 0 , 2),\r\n",
                "(4 , 18 , '2019-10-12' , 'низкое давление' ,    'перелом без смещения' , 'фенолонин' , 0 , 15),\r\n",
                "(4 , 1 ,  '2018-10-12',  'профосмотр' ,         'кареиес' , 'ценузинол' , 1 , 5),\r\n",
                "(1 , 24 , '2019-10-9' ,  'зубная боль' ,        'сотрясение' , 'форолиманин' , 0 , 4),\r\n",
                "(7 , 40 , '2018-02-24' ,  'упадок сил' ,        'сдвиг темяной части' , 'ценузинол' , 1 , 9),\r\n",
                "(6 , 14 , '2019-08-18' ,  'профосмотр' ,        'перелом без смещения' , 'веторн' , 0 , 11),\r\n",
                "(3 , 33 , '2019-02-5' ,   'ожег' ,              'грви' ,       'маолокадин' , 0 , 20),\r\n",
                "(6 , 23 , '2018-12-16' , 'боль в животе' ,      'кареиес', 'каромазин' , 0 , 0);"
            ],
            "metadata": {
                "azdata_cell_guid": "1ec3cc7a-eaf1-4c7b-bca9-09d14e014d49",
                "tags": [
                    "hide_input"
                ]
            },
            "outputs": [
                {
                    "output_type": "display_data",
                    "data": {
                        "text/html": "(40 rows affected)"
                    },
                    "metadata": {}
                },
                {
                    "output_type": "display_data",
                    "data": {
                        "text/html": "Total execution time: 00:00:00.030"
                    },
                    "metadata": {}
                }
            ],
            "execution_count": 13
        },
        {
            "cell_type": "code",
            "source": [
                "--Адрес данного больного, дата последнего посещения поликлиники и диагноз?\r\n",
                "CREATE PROC task1(\r\n",
                "    @snm_patient VARCHAR(55)\r\n",
                ")\r\n",
                "AS \r\n",
                "begin\r\n",
                "IF NOT EXISTS(\r\n",
                "    select snm_patient from Patients\r\n",
                "    where snm_patient = @snm_patient\r\n",
                ")\r\n",
                "select 'Patients does not exist'\r\n",
                "ELSE\r\n",
                "SELECT p.snm_patient,p.home_adress, pc.visiting_date, pc.diagnosis\r\n",
                "from Patients p\r\n",
                "INNER JOIN Patient_cards pc \r\n",
                "on p.patinent_id = pc.patinent_id\r\n",
                "where p.snm_patient = @snm_patient\r\n",
                "end\r\n",
                ""
            ],
            "metadata": {
                "azdata_cell_guid": "befd52a1-7da5-48fd-b36f-dc1c12d8a2b5",
                "tags": [
                    "hide_input"
                ]
            },
            "outputs": [
                {
                    "output_type": "display_data",
                    "data": {
                        "text/html": "Commands completed successfully."
                    },
                    "metadata": {}
                },
                {
                    "output_type": "display_data",
                    "data": {
                        "text/html": "Total execution time: 00:00:00.007"
                    },
                    "metadata": {}
                }
            ],
            "execution_count": 14
        },
        {
            "cell_type": "code",
            "source": [
                "EXEC task1 'Евсеева Данута Всеволодовна'"
            ],
            "metadata": {
                "azdata_cell_guid": "11fa229b-de8b-4ff6-a037-f3dae1e647aa"
            },
            "outputs": [
                {
                    "output_type": "display_data",
                    "data": {
                        "text/html": "(1 row affected)"
                    },
                    "metadata": {}
                },
                {
                    "output_type": "display_data",
                    "data": {
                        "text/html": "Total execution time: 00:00:00.156"
                    },
                    "metadata": {}
                },
                {
                    "output_type": "execute_result",
                    "metadata": {},
                    "execution_count": 15,
                    "data": {
                        "application/vnd.dataresource+json": {
                            "schema": {
                                "fields": [
                                    {
                                        "name": "snm_patient"
                                    },
                                    {
                                        "name": "home_adress"
                                    },
                                    {
                                        "name": "visiting_date"
                                    },
                                    {
                                        "name": "diagnosis"
                                    }
                                ]
                            },
                            "data": [
                                {
                                    "0": "Евсеева Данута Всеволодовна",
                                    "1": "Рабочая дом 92",
                                    "2": "2019-09-23",
                                    "3": "грви"
                                }
                            ]
                        },
                        "text/html": "<table><tr><th>snm_patient</th><th>home_adress</th><th>visiting_date</th><th>diagnosis</th></tr><tr><td>Евсеева Данута Всеволодовна</td><td>Рабочая дом 92</td><td>2019-09-23</td><td>грви</td></tr></table>"
                    }
                }
            ],
            "execution_count": 15
        },
        {
            "cell_type": "code",
            "source": [
                "-- Фамилия и инициалы лечащего врача данного больного?\r\n",
                "CREATE PROC task2(\r\n",
                "    @snm_patient VARCHAR(55)\r\n",
                ")\r\n",
                "AS \r\n",
                "begin\r\n",
                "IF NOT EXISTS(\r\n",
                "    select snm_patient from Patients\r\n",
                "    where snm_patient = @snm_patient\r\n",
                ")\r\n",
                "select 'Patients does not exist'\r\n",
                "ELSE\r\n",
                "SELECT d.snm_doctor\r\n",
                "from Doctors d\r\n",
                "INNER JOIN Patient_cards pc \r\n",
                "on d.doctor_id = pc.doctor_id\r\n",
                "INNER JOIN Patients p \r\n",
                "on p.patinent_id = pc.patinent_id\r\n",
                "where p.snm_patient = @snm_patient\r\n",
                "end\r\n",
                ""
            ],
            "metadata": {
                "azdata_cell_guid": "ff3f6883-7256-4223-8089-c27b1cb95437",
                "tags": [
                    "hide_input"
                ]
            },
            "outputs": [
                {
                    "output_type": "display_data",
                    "data": {
                        "text/html": "Commands completed successfully."
                    },
                    "metadata": {}
                },
                {
                    "output_type": "display_data",
                    "data": {
                        "text/html": "Total execution time: 00:00:00.007"
                    },
                    "metadata": {}
                }
            ],
            "execution_count": 16
        },
        {
            "cell_type": "code",
            "source": [
                "EXEC task2 'Евсеева Данута Всеволодовна'"
            ],
            "metadata": {
                "azdata_cell_guid": "5e048d69-df34-401c-b96d-30ee8dc490c3"
            },
            "outputs": [
                {
                    "output_type": "display_data",
                    "data": {
                        "text/html": "(1 row affected)"
                    },
                    "metadata": {}
                },
                {
                    "output_type": "display_data",
                    "data": {
                        "text/html": "Total execution time: 00:00:00.017"
                    },
                    "metadata": {}
                },
                {
                    "output_type": "execute_result",
                    "metadata": {},
                    "execution_count": 17,
                    "data": {
                        "application/vnd.dataresource+json": {
                            "schema": {
                                "fields": [
                                    {
                                        "name": "snm_doctor"
                                    }
                                ]
                            },
                            "data": [
                                {
                                    "0": "Берёзкина Стела Эммануиловна"
                                }
                            ]
                        },
                        "text/html": "<table><tr><th>snm_doctor</th></tr><tr><td>Берёзкина Стела Эммануиловна</td></tr></table>"
                    }
                }
            ],
            "execution_count": 17
        },
        {
            "cell_type": "code",
            "source": [
                "-- Номер кабинета, дни и часы приема данного врача?\r\n",
                "CREATE PROC task3(\r\n",
                "    @snm_doctor VARCHAR(55)\r\n",
                ")\r\n",
                "AS \r\n",
                "begin\r\n",
                "IF NOT EXISTS(\r\n",
                "    select snm_doctor from Doctors\r\n",
                "    where snm_doctor = @snm_doctor\r\n",
                ")\r\n",
                "select 'Doctor does not exist'\r\n",
                "ELSE\r\n",
                "SELECT dws.cabinet_number, dws.day_week, dws.vis_h1,dws.vis_h2\r\n",
                "from Doctors d\r\n",
                "INNER JOIN Doctors_work_schedule dws\r\n",
                "on d.doctor_id = dws.doctors_work_schedule_id\r\n",
                "where d.snm_doctor = @snm_doctor\r\n",
                "end"
            ],
            "metadata": {
                "azdata_cell_guid": "f9bde627-f8f0-4b12-8406-a6ca8ec02da9",
                "tags": [
                    "hide_input"
                ]
            },
            "outputs": [
                {
                    "output_type": "display_data",
                    "data": {
                        "text/html": "Commands completed successfully."
                    },
                    "metadata": {}
                },
                {
                    "output_type": "display_data",
                    "data": {
                        "text/html": "Total execution time: 00:00:00.007"
                    },
                    "metadata": {}
                }
            ],
            "execution_count": 18
        },
        {
            "cell_type": "code",
            "source": [
                "EXEC task3 'Юдачёва Инесса Родионовна'"
            ],
            "metadata": {
                "azdata_cell_guid": "b9ca34ec-373f-4805-8e7b-d84960762f9a"
            },
            "outputs": [
                {
                    "output_type": "display_data",
                    "data": {
                        "text/html": "(2 rows affected)"
                    },
                    "metadata": {}
                },
                {
                    "output_type": "display_data",
                    "data": {
                        "text/html": "Total execution time: 00:00:00.026"
                    },
                    "metadata": {}
                },
                {
                    "output_type": "execute_result",
                    "metadata": {},
                    "execution_count": 19,
                    "data": {
                        "application/vnd.dataresource+json": {
                            "schema": {
                                "fields": [
                                    {
                                        "name": "cabinet_number"
                                    },
                                    {
                                        "name": "day_week"
                                    },
                                    {
                                        "name": "vis_h1"
                                    },
                                    {
                                        "name": "vis_h2"
                                    }
                                ]
                            },
                            "data": [
                                {
                                    "0": "42",
                                    "1": "пятница",
                                    "2": "7",
                                    "3": "14"
                                },
                                {
                                    "0": "567",
                                    "1": "четверг",
                                    "2": "13",
                                    "3": "18"
                                }
                            ]
                        },
                        "text/html": "<table><tr><th>cabinet_number</th><th>day_week</th><th>vis_h1</th><th>vis_h2</th></tr><tr><td>42</td><td>пятница</td><td>7</td><td>14</td></tr><tr><td>567</td><td>четверг</td><td>13</td><td>18</td></tr></table>"
                    }
                }
            ],
            "execution_count": 19
        },
        {
            "cell_type": "code",
            "source": [
                "--Больные, находящиеся в данный момент на лечении у данного врача\r\n",
                "CREATE PROC task4(\r\n",
                "    @snm_doctor VARCHAR(55)\r\n",
                ")\r\n",
                "AS \r\n",
                "begin\r\n",
                "IF NOT EXISTS(\r\n",
                "    select snm_doctor from Doctors\r\n",
                "    where snm_doctor = @snm_doctor\r\n",
                ")\r\n",
                "select 'Doctor does not exist'\r\n",
                "ELSE\r\n",
                "select p.snm_patient, pc.days_leaving\r\n",
                "from Patient_cards  pc \r\n",
                "INNER JOIN Patients p \r\n",
                "on pc.patinent_id = p.patinent_id\r\n",
                "INNER JOIN Doctors d \r\n",
                "on d.doctor_id = pc.doctor_id\r\n",
                "where leaving =0 and d.snm_doctor = @snm_doctor\r\n",
                "end"
            ],
            "metadata": {
                "azdata_cell_guid": "2f37c36e-b96d-4e4b-bab4-97205e0dcc15",
                "tags": [
                    "hide_input"
                ]
            },
            "outputs": [
                {
                    "output_type": "display_data",
                    "data": {
                        "text/html": "Commands completed successfully."
                    },
                    "metadata": {}
                },
                {
                    "output_type": "display_data",
                    "data": {
                        "text/html": "Total execution time: 00:00:00.009"
                    },
                    "metadata": {}
                }
            ],
            "execution_count": 20
        },
        {
            "cell_type": "code",
            "source": [
                "EXEC task4 'Кригунин Валерий Ростиславович'"
            ],
            "metadata": {
                "azdata_cell_guid": "ee139110-0574-4f30-a874-5da8dc2304f8",
                "tags": []
            },
            "outputs": [
                {
                    "output_type": "display_data",
                    "data": {
                        "text/html": "(5 rows affected)"
                    },
                    "metadata": {}
                },
                {
                    "output_type": "display_data",
                    "data": {
                        "text/html": "Total execution time: 00:00:00.024"
                    },
                    "metadata": {}
                },
                {
                    "output_type": "execute_result",
                    "metadata": {},
                    "execution_count": 21,
                    "data": {
                        "application/vnd.dataresource+json": {
                            "schema": {
                                "fields": [
                                    {
                                        "name": "snm_patient"
                                    },
                                    {
                                        "name": "days_leaving"
                                    }
                                ]
                            },
                            "data": [
                                {
                                    "0": "Исакова Лариса Тимуровна",
                                    "1": "3"
                                },
                                {
                                    "0": "Кошелев Виталий Наумович",
                                    "1": "11"
                                },
                                {
                                    "0": "Лебедев Николай Агафонович",
                                    "1": "2"
                                },
                                {
                                    "0": "Терентьева Юлиана Степановна",
                                    "1": "5"
                                },
                                {
                                    "0": "Кулакова Винетта Федотовна",
                                    "1": "15"
                                }
                            ]
                        },
                        "text/html": "<table><tr><th>snm_patient</th><th>days_leaving</th></tr><tr><td>Исакова Лариса Тимуровна</td><td>3</td></tr><tr><td>Кошелев Виталий Наумович</td><td>11</td></tr><tr><td>Лебедев Николай Агафонович</td><td>2</td></tr><tr><td>Терентьева Юлиана Степановна</td><td>5</td></tr><tr><td>Кулакова Винетта Федотовна</td><td>15</td></tr></table>"
                    }
                }
            ],
            "execution_count": 21
        },
        {
            "cell_type": "code",
            "source": [
                "-- Назначения врачей при указанном заболевании? \r\n",
                "CREATE PROC task5(\r\n",
                "    @diagn VARCHAR(55)\r\n",
                ")\r\n",
                "AS \r\n",
                "begin\r\n",
                "IF NOT EXISTS(\r\n",
                "    select diagnosis from Patient_cards\r\n",
                "    where diagnosis = @diagn\r\n",
                ")\r\n",
                "select 'Diagnosis has not appeared yet' as result\r\n",
                "ELSE\r\n",
                "select distinct medication\r\n",
                "from Patient_cards\r\n",
                "where diagnosis = @diagn\r\n",
                "end"
            ],
            "metadata": {
                "azdata_cell_guid": "d7722a20-51a2-4406-886f-b3162767da31",
                "tags": [
                    "hide_input"
                ]
            },
            "outputs": [
                {
                    "output_type": "display_data",
                    "data": {
                        "text/html": "Commands completed successfully."
                    },
                    "metadata": {}
                },
                {
                    "output_type": "display_data",
                    "data": {
                        "text/html": "Total execution time: 00:00:00.006"
                    },
                    "metadata": {}
                }
            ],
            "execution_count": 22
        },
        {
            "cell_type": "code",
            "source": [
                "--drop proc task5 \r\n",
                "EXEC task5 'грви'"
            ],
            "metadata": {
                "azdata_cell_guid": "79e7b410-211b-46f5-b18c-07713c5f8a33"
            },
            "outputs": [
                {
                    "output_type": "display_data",
                    "data": {
                        "text/html": "(3 rows affected)"
                    },
                    "metadata": {}
                },
                {
                    "output_type": "display_data",
                    "data": {
                        "text/html": "Total execution time: 00:00:00.018"
                    },
                    "metadata": {}
                },
                {
                    "output_type": "execute_result",
                    "metadata": {},
                    "execution_count": 23,
                    "data": {
                        "application/vnd.dataresource+json": {
                            "schema": {
                                "fields": [
                                    {
                                        "name": "medication"
                                    }
                                ]
                            },
                            "data": [
                                {
                                    "0": "каромазин"
                                },
                                {
                                    "0": "маолокадин"
                                },
                                {
                                    "0": "ценузинол"
                                }
                            ]
                        },
                        "text/html": "<table><tr><th>medication</th></tr><tr><td>каромазин</td></tr><tr><td>маолокадин</td></tr><tr><td>ценузинол</td></tr></table>"
                    }
                }
            ],
            "execution_count": 23
        },
        {
            "cell_type": "code",
            "source": [
                " --Кто работает в данный момент в указанном кабинете?\r\n",
                "CREATE PROC task6(\r\n",
                "    @cabinet_number INT\r\n",
                ")\r\n",
                "AS \r\n",
                "begin\r\n",
                "IF NOT EXISTS(\r\n",
                "    select cabinet_number from Doctors_work_schedule\r\n",
                "    where cabinet_number = @cabinet_number\r\n",
                ")\r\n",
                "select 'Cabinet number does not exist'\r\n",
                "ELSE\r\n",
                "select d.snm_doctor from \r\n",
                "Doctors_work_schedule dws \r\n",
                "INNER JOIN Doctors d \r\n",
                "on dws.doctors_work_schedule_id = d.doctor_id\r\n",
                "WHERE dws.day_week = datename(w,getdate()) \r\n",
                "and DATENAME(hour,GETDATE()) BETWEEN dws.vis_h1 and dws.vis_h2 and dws.cabinet_number = @cabinet_number\r\n",
                "end"
            ],
            "metadata": {
                "azdata_cell_guid": "cf105b79-6592-4fa5-b554-efc459aed02a",
                "tags": [
                    "hide_input"
                ]
            },
            "outputs": [
                {
                    "output_type": "display_data",
                    "data": {
                        "text/html": "Commands completed successfully."
                    },
                    "metadata": {}
                },
                {
                    "output_type": "display_data",
                    "data": {
                        "text/html": "Total execution time: 00:00:00.006"
                    },
                    "metadata": {}
                }
            ],
            "execution_count": 24
        },
        {
            "cell_type": "code",
            "source": [
                "EXEC task6 789"
            ],
            "metadata": {
                "azdata_cell_guid": "5a84870b-0760-4f6b-a36f-89bb55a54c2e"
            },
            "outputs": [
                {
                    "output_type": "display_data",
                    "data": {
                        "text/html": "(1 row affected)"
                    },
                    "metadata": {}
                },
                {
                    "output_type": "display_data",
                    "data": {
                        "text/html": "Total execution time: 00:00:00.024"
                    },
                    "metadata": {}
                },
                {
                    "output_type": "execute_result",
                    "metadata": {},
                    "execution_count": 26,
                    "data": {
                        "application/vnd.dataresource+json": {
                            "schema": {
                                "fields": [
                                    {
                                        "name": "snm_doctor"
                                    }
                                ]
                            },
                            "data": [
                                {
                                    "0": "Щербатыха Зоя Радиславовна"
                                }
                            ]
                        },
                        "text/html": "<table><tr><th>snm_doctor</th></tr><tr><td>Щербатыха Зоя Радиславовна</td></tr></table>"
                    }
                }
            ],
            "execution_count": 26
        },
        {
            "cell_type": "code",
            "source": [
                "-- Дата последнего обращения в поликлинику невыписанного больного?\r\n",
                "CREATE PROC task7(\r\n",
                "    @snm_patient VARCHAR(55)\r\n",
                ")\r\n",
                "AS \r\n",
                "begin\r\n",
                "IF NOT EXISTS(\r\n",
                "    select snm_patient \r\n",
                "    from Patients\r\n",
                "    where snm_patient = @snm_patient\r\n",
                ")\r\n",
                "select 'Patient does not exists' as result\r\n",
                "ELSE\r\n",
                "select pc.visiting_date \r\n",
                "from Patient_cards pc\r\n",
                "INNER JOIN Patients p \r\n",
                "on p.patinent_id = pc.patinent_id\r\n",
                "where p.snm_patient = @snm_patient\r\n",
                "end"
            ],
            "metadata": {
                "azdata_cell_guid": "8eb01d5c-fa0e-47ea-a2a4-841eb58f11df",
                "tags": [
                    "hide_input"
                ]
            },
            "outputs": [
                {
                    "output_type": "display_data",
                    "data": {
                        "text/html": "Commands completed successfully."
                    },
                    "metadata": {}
                },
                {
                    "output_type": "display_data",
                    "data": {
                        "text/html": "Total execution time: 00:00:00.008"
                    },
                    "metadata": {}
                }
            ],
            "execution_count": 27
        },
        {
            "cell_type": "code",
            "source": [
                "EXEC task7 'Кулакова Винетта Федотовна'"
            ],
            "metadata": {
                "azdata_cell_guid": "10d46464-f59f-46b6-b11c-65f0d543af03"
            },
            "outputs": [
                {
                    "output_type": "display_data",
                    "data": {
                        "text/html": "(1 row affected)"
                    },
                    "metadata": {}
                },
                {
                    "output_type": "display_data",
                    "data": {
                        "text/html": "Total execution time: 00:00:00.016"
                    },
                    "metadata": {}
                },
                {
                    "output_type": "execute_result",
                    "metadata": {},
                    "execution_count": 28,
                    "data": {
                        "application/vnd.dataresource+json": {
                            "schema": {
                                "fields": [
                                    {
                                        "name": "visiting_date"
                                    }
                                ]
                            },
                            "data": [
                                {
                                    "0": "2019-10-12"
                                }
                            ]
                        },
                        "text/html": "<table><tr><th>visiting_date</th></tr><tr><td>2019-10-12</td></tr></table>"
                    }
                }
            ],
            "execution_count": 28
        },
        {
            "cell_type": "code",
            "source": [
                "--Какое количество больных обслужил за последний месец каждый из врачей поликлиники?\r\n",
                "select COUNT(pc.doctor_id) counts_patients,d.snm_doctor\r\n",
                "from Patient_cards pc\r\n",
                "INNER JOIN Doctors d \r\n",
                "on d.doctor_id = pc.doctor_id\r\n",
                "where pc.visiting_date > '2019-08-10'\r\n",
                "GROUP BY d.snm_doctor"
            ],
            "metadata": {
                "azdata_cell_guid": "4e2c4ee6-3840-4a01-a7e5-e74dec6fe99b",
                "tags": [
                    "hide_input"
                ]
            },
            "outputs": [
                {
                    "output_type": "display_data",
                    "data": {
                        "text/html": "(5 rows affected)"
                    },
                    "metadata": {}
                },
                {
                    "output_type": "display_data",
                    "data": {
                        "text/html": "Total execution time: 00:00:00.025"
                    },
                    "metadata": {}
                },
                {
                    "output_type": "execute_result",
                    "metadata": {},
                    "execution_count": 29,
                    "data": {
                        "application/vnd.dataresource+json": {
                            "schema": {
                                "fields": [
                                    {
                                        "name": "counts_patients"
                                    },
                                    {
                                        "name": "snm_doctor"
                                    }
                                ]
                            },
                            "data": [
                                {
                                    "0": "2",
                                    "1": "Берёзкина Стела Эммануиловна"
                                },
                                {
                                    "0": "1",
                                    "1": "Гершкович Андриян Евграфович"
                                },
                                {
                                    "0": "1",
                                    "1": "Каничев Николай Валентинович"
                                },
                                {
                                    "0": "1",
                                    "1": "Кригунин Валерий Ростиславович"
                                },
                                {
                                    "0": "1",
                                    "1": "Щербатыха Зоя Радиславовна"
                                }
                            ]
                        },
                        "text/html": "<table><tr><th>counts_patients</th><th>snm_doctor</th></tr><tr><td>2</td><td>Берёзкина Стела Эммануиловна</td></tr><tr><td>1</td><td>Гершкович Андриян Евграфович</td></tr><tr><td>1</td><td>Каничев Николай Валентинович</td></tr><tr><td>1</td><td>Кригунин Валерий Ростиславович</td></tr><tr><td>1</td><td>Щербатыха Зоя Радиславовна</td></tr></table>"
                    }
                }
            ],
            "execution_count": 29
        },
        {
            "cell_type": "code",
            "source": [
                "--Работники регистратуры регистрируют пациента, заполняя первую страницу его карточки."
            ],
            "metadata": {
                "azdata_cell_guid": "5c8bff9c-4eb7-4092-87c5-3356cc2211b5"
            },
            "outputs": [
                {
                    "output_type": "display_data",
                    "data": {
                        "text/html": "Commands completed successfully."
                    },
                    "metadata": {}
                },
                {
                    "output_type": "display_data",
                    "data": {
                        "text/html": "Total execution time: 00:00:00.001"
                    },
                    "metadata": {}
                }
            ],
            "execution_count": 30
        },
        {
            "cell_type": "code",
            "source": [
                "CREATE PROC AddPatient(\r\n",
                "    @snm_patient VARCHAR(55),\r\n",
                "    @home_adress VARCHAR(55), \r\n",
                "    @sex VARCHAR(1), \r\n",
                "    @age INT,\r\n",
                "    @insurance_policy_number INT,\r\n",
                "    @data_creating_patient_card DATE\r\n",
                ")\r\n",
                "AS \r\n",
                "begin\r\n",
                "IF EXISTS(\r\n",
                "    select snm_patient \r\n",
                "    from Patients\r\n",
                "    where snm_patient = @snm_patient\r\n",
                ")\r\n",
                "select 'Patient exists' as result\r\n",
                "ELSE\r\n",
                "INSERT INTO Patients (snm_patient,home_adress,sex, age, insurance_policy_number, data_creating_patient_card)\r\n",
                "VALUES(@snm_patient,@home_adress,@sex, @age, @insurance_policy_number, @data_creating_patient_card);\r\n",
                "end"
            ],
            "metadata": {
                "azdata_cell_guid": "ebfd2358-5e0b-48a4-a328-0e1554d37ad2",
                "tags": [
                    "hide_input"
                ]
            },
            "outputs": [
                {
                    "output_type": "display_data",
                    "data": {
                        "text/html": "Commands completed successfully."
                    },
                    "metadata": {}
                },
                {
                    "output_type": "display_data",
                    "data": {
                        "text/html": "Total execution time: 00:00:00.006"
                    },
                    "metadata": {}
                }
            ],
            "execution_count": 31
        },
        {
            "cell_type": "code",
            "source": [
                "EXEC AddPatient 'Беринцева Наталия Романовна',  'Кострокова 48','f',57,836434,'1979-12-10'"
            ],
            "metadata": {
                "azdata_cell_guid": "1401c77e-e92f-43d9-8179-6b5d11721340"
            },
            "outputs": [
                {
                    "output_type": "display_data",
                    "data": {
                        "text/html": "(1 row affected)"
                    },
                    "metadata": {}
                },
                {
                    "output_type": "display_data",
                    "data": {
                        "text/html": "Total execution time: 00:00:00.008"
                    },
                    "metadata": {}
                }
            ],
            "execution_count": 32
        },
        {
            "cell_type": "code",
            "source": [
                "select d.snm_doctor,dws.day_week,dws.vis_h1,dws.vis_h2\r\n",
                "from Doctors_work_schedule dws\r\n",
                "INNER JOIN Doctors d\r\n",
                "on d.doctor_id = dws.doctors_work_schedule_id\r\n",
                "ORDER BY dws.day_week"
            ],
            "metadata": {
                "azdata_cell_guid": "7ecfbb12-f1bf-4fce-a954-14748c7400cf",
                "tags": [
                    "hide_input"
                ]
            },
            "outputs": [
                {
                    "output_type": "display_data",
                    "data": {
                        "text/html": "(16 rows affected)"
                    },
                    "metadata": {}
                },
                {
                    "output_type": "display_data",
                    "data": {
                        "text/html": "Total execution time: 00:00:00.018"
                    },
                    "metadata": {}
                },
                {
                    "output_type": "execute_result",
                    "metadata": {},
                    "execution_count": 33,
                    "data": {
                        "application/vnd.dataresource+json": {
                            "schema": {
                                "fields": [
                                    {
                                        "name": "snm_doctor"
                                    },
                                    {
                                        "name": "day_week"
                                    },
                                    {
                                        "name": "vis_h1"
                                    },
                                    {
                                        "name": "vis_h2"
                                    }
                                ]
                            },
                            "data": [
                                {
                                    "0": "Каничев Николай Валентинович",
                                    "1": "вторник",
                                    "2": "7",
                                    "3": "14"
                                },
                                {
                                    "0": "Берёзкина Стела Эммануиловна",
                                    "1": "вторник",
                                    "2": "10",
                                    "3": "15"
                                },
                                {
                                    "0": "Берёзкина Стела Эммануиловна",
                                    "1": "вторник",
                                    "2": "12",
                                    "3": "16"
                                },
                                {
                                    "0": "Берёзкина Стела Эммануиловна",
                                    "1": "вторник",
                                    "2": "8",
                                    "3": "15"
                                },
                                {
                                    "0": "Щербатыха Зоя Радиславовна",
                                    "1": "понедельник",
                                    "2": "8",
                                    "3": "17"
                                },
                                {
                                    "0": "Заврагин Николай Валериевич",
                                    "1": "понедельник",
                                    "2": "13",
                                    "3": "19"
                                },
                                {
                                    "0": "Берёзкина Стела Эммануиловна",
                                    "1": "понедельник",
                                    "2": "12",
                                    "3": "17"
                                },
                                {
                                    "0": "Заврагин Николай Валериевич",
                                    "1": "понедельник",
                                    "2": "11",
                                    "3": "17"
                                },
                                {
                                    "0": "Юдачёва Инесса Родионовна",
                                    "1": "пятница",
                                    "2": "7",
                                    "3": "14"
                                },
                                {
                                    "0": "Кригунин Валерий Ростиславович",
                                    "1": "пятница",
                                    "2": "9",
                                    "3": "18"
                                },
                                {
                                    "0": "Щербатыха Зоя Радиславовна",
                                    "1": "среда",
                                    "2": "12",
                                    "3": "19"
                                },
                                {
                                    "0": "Железнова Доминика Василиевна",
                                    "1": "среда",
                                    "2": "12",
                                    "3": "14"
                                },
                                {
                                    "0": "Каржов Александр Архипович",
                                    "1": "среда",
                                    "2": "8",
                                    "3": "18"
                                },
                                {
                                    "0": "Щербатыха Зоя Радиславовна",
                                    "1": "четверг",
                                    "2": "10",
                                    "3": "15"
                                },
                                {
                                    "0": "Гершкович Андриян Евграфович",
                                    "1": "четверг",
                                    "2": "12",
                                    "3": "14"
                                },
                                {
                                    "0": "Юдачёва Инесса Родионовна",
                                    "1": "четверг",
                                    "2": "13",
                                    "3": "18"
                                }
                            ]
                        },
                        "text/html": "<table><tr><th>snm_doctor</th><th>day_week</th><th>vis_h1</th><th>vis_h2</th></tr><tr><td>Каничев Николай Валентинович</td><td>вторник</td><td>7</td><td>14</td></tr><tr><td>Берёзкина Стела Эммануиловна</td><td>вторник</td><td>10</td><td>15</td></tr><tr><td>Берёзкина Стела Эммануиловна</td><td>вторник</td><td>12</td><td>16</td></tr><tr><td>Берёзкина Стела Эммануиловна</td><td>вторник</td><td>8</td><td>15</td></tr><tr><td>Щербатыха Зоя Радиславовна</td><td>понедельник</td><td>8</td><td>17</td></tr><tr><td>Заврагин Николай Валериевич</td><td>понедельник</td><td>13</td><td>19</td></tr><tr><td>Берёзкина Стела Эммануиловна</td><td>понедельник</td><td>12</td><td>17</td></tr><tr><td>Заврагин Николай Валериевич</td><td>понедельник</td><td>11</td><td>17</td></tr><tr><td>Юдачёва Инесса Родионовна</td><td>пятница</td><td>7</td><td>14</td></tr><tr><td>Кригунин Валерий Ростиславович</td><td>пятница</td><td>9</td><td>18</td></tr><tr><td>Щербатыха Зоя Радиславовна</td><td>среда</td><td>12</td><td>19</td></tr><tr><td>Железнова Доминика Василиевна</td><td>среда</td><td>12</td><td>14</td></tr><tr><td>Каржов Александр Архипович</td><td>среда</td><td>8</td><td>18</td></tr><tr><td>Щербатыха Зоя Радиславовна</td><td>четверг</td><td>10</td><td>15</td></tr><tr><td>Гершкович Андриян Евграфович</td><td>четверг</td><td>12</td><td>14</td></tr><tr><td>Юдачёва Инесса Родионовна</td><td>четверг</td><td>13</td><td>18</td></tr></table>"
                    }
                }
            ],
            "execution_count": 33
        },
        {
            "cell_type": "code",
            "source": [
                "CREATE PROC AddPatientCard(\r\n",
                "    @doctor_id INT,\r\n",
                "    @patinent_id  INT,\r\n",
                "    @visiting_date DATE,\r\n",
                "    @illness VARCHAR(50),\r\n",
                "    @diagnosis VARCHAR(50),\r\n",
                "    @medication VARCHAR(50),\r\n",
                "    @leaving INT,\r\n",
                "    @days_leaving INT\r\n",
                ")\r\n",
                "AS \r\n",
                "begin\r\n",
                "IF EXISTS(\r\n",
                "    select visiting_date \r\n",
                "    from Patient_cards\r\n",
                "    where doctor_id = @doctor_id and patinent_id =@patinent_id\r\n",
                "    and visiting_date =@visiting_date\r\n",
                ")\r\n",
                "select 'Is exists' as result\r\n",
                "ELSE\r\n",
                "INSERT INTO Patient_cards(doctor_id,patinent_id,visiting_date,illness,diagnosis,medication,leaving ,days_leaving)\r\n",
                "VALUES(@doctor_id,@patinent_id,@visiting_date,@illness,@diagnosis,@medication,@leaving ,@days_leaving);\r\n",
                "end"
            ],
            "metadata": {
                "azdata_cell_guid": "8c33e718-17cb-4fb8-a5a7-7cb64f6b1ece",
                "tags": [
                    "hide_input"
                ]
            },
            "outputs": [
                {
                    "output_type": "display_data",
                    "data": {
                        "text/html": "Commands completed successfully."
                    },
                    "metadata": {}
                },
                {
                    "output_type": "display_data",
                    "data": {
                        "text/html": "Total execution time: 00:00:00.007"
                    },
                    "metadata": {}
                }
            ],
            "execution_count": 32
        },
        {
            "cell_type": "code",
            "source": [
                "EXEC AddPatientCard  2 , 13 , '2019-09-26' ,  'ожег' ,  'грви' , 'каромин' , 1 , 5"
            ],
            "metadata": {
                "azdata_cell_guid": "56fd46cb-534f-48da-bbc3-2bb69f0ab7df"
            },
            "outputs": [
                {
                    "output_type": "display_data",
                    "data": {
                        "text/html": "(1 row affected)"
                    },
                    "metadata": {}
                },
                {
                    "output_type": "display_data",
                    "data": {
                        "text/html": "Total execution time: 00:00:00.018"
                    },
                    "metadata": {}
                }
            ],
            "execution_count": 33
        },
        {
            "cell_type": "code",
            "source": [
                "CREATE PROC DelDoctor(\r\n",
                "    @snm_doctor VARCHAR(55),\r\n",
                "    @new_id INT\r\n",
                ")\r\n",
                "AS \r\n",
                "begin\r\n",
                "IF not EXISTS(\r\n",
                "    select snm_doctor\r\n",
                "    from Doctors\r\n",
                "    where snm_doctor =@snm_doctor\r\n",
                ")\r\n",
                "select 'Is exists' as result\r\n",
                "ELSE\r\n",
                "UPDATE Patient_cards\r\n",
                "set doctor_id =  @new_id\r\n",
                "where doctor_id in (select doctor_id from Doctors where snm_doctor = @snm_doctor);\r\n",
                "\r\n",
                "UPDATE Doctors_work_schedule\r\n",
                "set doctors_work_schedule_id =  @new_id\r\n",
                "where doctors_work_schedule_id in (select doctor_id from Doctors where snm_doctor = @snm_doctor);\r\n",
                "\r\n",
                "DELETE FROM Doctors\r\n",
                " WHERE doctor_id = (select doctor_id from Doctors where snm_doctor = @snm_doctor);\r\n",
                "end"
            ],
            "metadata": {
                "azdata_cell_guid": "b47b9a61-8f16-44e4-b4c6-34f7bdd26e6f",
                "tags": [
                    "hide_input"
                ]
            },
            "outputs": [
                {
                    "output_type": "display_data",
                    "data": {
                        "text/html": "Commands completed successfully."
                    },
                    "metadata": {}
                },
                {
                    "output_type": "display_data",
                    "data": {
                        "text/html": "Total execution time: 00:00:00.008"
                    },
                    "metadata": {}
                }
            ],
            "execution_count": 79
        },
        {
            "cell_type": "code",
            "source": [
                "EXEC DelDoctor 'Заврагин Николай Валериевич', 9  --имя увольняемого врача, ид другого врача"
            ],
            "metadata": {
                "azdata_cell_guid": "a9550e85-5aa0-4d0a-b24b-1b7e703eea30"
            },
            "outputs": [
                {
                    "output_type": "display_data",
                    "data": {
                        "text/html": "(6 rows affected)"
                    },
                    "metadata": {}
                },
                {
                    "output_type": "display_data",
                    "data": {
                        "text/html": "(2 rows affected)"
                    },
                    "metadata": {}
                },
                {
                    "output_type": "display_data",
                    "data": {
                        "text/html": "(1 row affected)"
                    },
                    "metadata": {}
                },
                {
                    "output_type": "display_data",
                    "data": {
                        "text/html": "Total execution time: 00:00:00.044"
                    },
                    "metadata": {}
                }
            ],
            "execution_count": 80
        },
        {
            "cell_type": "code",
            "source": [
                "select * \r\n",
                "from Patient_cards \r\n",
                "where doctor_id = 5"
            ],
            "metadata": {
                "azdata_cell_guid": "6def6b49-ab24-410f-8e3e-14c4f1541520",
                "tags": []
            },
            "outputs": [
                {
                    "output_type": "display_data",
                    "data": {
                        "text/html": "(0 rows affected)"
                    },
                    "metadata": {}
                },
                {
                    "output_type": "display_data",
                    "data": {
                        "text/html": "Total execution time: 00:00:00.047"
                    },
                    "metadata": {}
                },
                {
                    "output_type": "execute_result",
                    "execution_count": 83,
                    "data": {
                        "application/vnd.dataresource+json": {
                            "schema": {
                                "fields": [
                                    {
                                        "name": "card_id"
                                    },
                                    {
                                        "name": "doctor_id"
                                    },
                                    {
                                        "name": "patinent_id"
                                    },
                                    {
                                        "name": "visiting_date"
                                    },
                                    {
                                        "name": "illness"
                                    },
                                    {
                                        "name": "diagnosis"
                                    },
                                    {
                                        "name": "medication"
                                    },
                                    {
                                        "name": "leaving"
                                    },
                                    {
                                        "name": "days_leaving"
                                    }
                                ]
                            },
                            "data": []
                        },
                        "text/html": "<table><tr><th>card_id</th><th>doctor_id</th><th>patinent_id</th><th>visiting_date</th><th>illness</th><th>diagnosis</th><th>medication</th><th>leaving</th><th>days_leaving</th></tr></table>"
                    },
                    "metadata": {}
                }
            ],
            "execution_count": 83
        },
        {
            "cell_type": "code",
            "source": [
                "drop "
            ],
            "metadata": {
                "azdata_cell_guid": "f5921f2d-f446-4e14-a94b-488bd9daeb05"
            },
            "outputs": [],
            "execution_count": 0
        }
    ]
}
