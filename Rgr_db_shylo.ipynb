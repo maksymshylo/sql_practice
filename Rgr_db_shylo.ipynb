{
    "metadata": {
        "kernelspec": {
            "name": "SQL",
            "display_name": "SQL",
            "language": "sql"
        },
        "language_info": {
            "name": "sql",
            "version": ""
        }
    },
    "nbformat_minor": 2,
    "nbformat": 4,
    "cells": [
        {
            "cell_type": "markdown",
            "source": [
                "# `Розрахункова БД`\n",
                "\n",
                "## Варіант 16\n",
                "\n",
                "## Тема: `Информационная система регистратуры поликлиники`\n",
                "\n",
                "БД должна хранить сведения об участках, которые относятся к поликлинике, о расписании работы участковых врачей , информацию о врачах, а также карточки пациентов. \n",
                "\n",
                "Карточка имеет номер, в нее заносятся сведения о каждом посещении поликлиники пациентом: дата посещения, жалобы, предварительный диагноз, назначения, выписан или нет больничный лист, и, если выписан, то на какой срок, имя врача. \n",
                "\n",
                "В карточке на первой странице указаны также фамилия, имя , отчество пациента, его домашний адрес, пол и возраст, номер страхового полиса, дата заполнения карточки. В расписании работы врачей указывается, на каком участке работает врач, дни и часы приема, номер кабинета.\n",
                "\n",
                " Врач может обслуживать более одного участка. В случае увольнения врача его участок(участки)передается другим врачам. Данные о враче, которые хранятся в БД, - это фамилия, имя отчество, категория, стаж работы, дата рождения. \n",
                " \n",
                " В карточку больного при каждом его посещении поликлиники врачом заносится очередная запись. Работники регистратуры регистрируют пациента, заполняя первую страницу его карточки. \n",
                " \n",
                " Уволить врача имеет право только заведующий поликлиникой. Он удаляет из базы сведения о враче и передает его больных другому врачу. \n",
                "\n",
                "\n",
                "## Работникам поликлиники могут потребоваться следующие сведения:\n",
                "- Адрес данного больного, дата последнего посещения поликлиники и диагноз?\n",
                "- Фамилия и инициалы лечащего врача данного больного?\n",
                "- Номер кабинета, дни и часы приема данного врача?\n",
                "- Больные, находящиеся в данный момент на лечении у данного врача(не истек срок больничного листа);\n",
                "- Назначения врачей при указанном заболевании?\n",
                "- Кто работает в данный момент в указанном кабинете?\n",
                "- Сколько раз за прошедший месяц обращался в поликлинику указанный больной?\n",
                "- Какое количество больных обслужил за прошедший месяц каждый из врачей поликлиники?\n",
                "\n",
                "\n",
                "Необходимо предусмотреть возможность выдачи пациенту больничного листа и справки установленного образца, в которой указано когда, и по какому поводу пациент обращался в поликлинику в текущем году.\n",
                "\n",
                " Расписание работы врачей поликлиники, которое можно повесить в холле, также должно формироваться автоматически."
            ],
            "metadata": {
                "azdata_cell_guid": "b1931f95-5749-44bd-b242-1bf8a82dd556"
            }
        },
        {
            "cell_type": "code",
            "source": [
                "--DROP DATABASE SYSTEM_REGISTRATION_HOSPITAL\r\n",
                "CREATE DATABASE SYSTEM_REGISTRATION_HOSPITAL"
            ],
            "metadata": {
                "azdata_cell_guid": "58d434ed-c8ce-4272-9095-4f57f77d8cbc",
                "tags": []
            },
            "outputs": [
                {
                    "output_type": "display_data",
                    "data": {
                        "text/html": "Commands completed successfully."
                    },
                    "metadata": {}
                },
                {
                    "output_type": "display_data",
                    "data": {
                        "text/html": "Total execution time: 00:00:00.222"
                    },
                    "metadata": {}
                }
            ],
            "execution_count": 2
        },
        {
            "cell_type": "code",
            "source": [
                "USE SYSTEM_REGISTRATION_HOSPITAL"
            ],
            "metadata": {
                "azdata_cell_guid": "b0a581e1-4312-46db-bb3a-813ccf074689"
            },
            "outputs": [
                {
                    "output_type": "display_data",
                    "data": {
                        "text/html": "Commands completed successfully."
                    },
                    "metadata": {}
                },
                {
                    "output_type": "display_data",
                    "data": {
                        "text/html": "Total execution time: 00:00:00.082"
                    },
                    "metadata": {}
                }
            ],
            "execution_count": 3
        },
        {
            "cell_type": "code",
            "source": [
                "CREATE TABLE Patients(\r\n",
                "    patinent_id INT IDENTITY PRIMARY KEY,\r\n",
                "    snm_patient VARCHAR(55) NOT NULL,              --surname,name and middle name of patient\r\n",
                "    home_adress VARCHAR(55) NOT NULL,\r\n",
                "    sex VARCHAR(1) CONSTRAINT check_sex CHECK (sex IN('m','f')),\r\n",
                "    age INT NOT NULL,\r\n",
                "    insurance_policy_number INT NOT NULL,\r\n",
                "    data_creating_patient_card DATE NOT NULL\r\n",
                ");"
            ],
            "metadata": {
                "azdata_cell_guid": "b5205c54-620d-415b-980b-20f9d8cc5c41"
            },
            "outputs": [
                {
                    "output_type": "display_data",
                    "data": {
                        "text/html": "Commands completed successfully."
                    },
                    "metadata": {}
                },
                {
                    "output_type": "display_data",
                    "data": {
                        "text/html": "Total execution time: 00:00:00.013"
                    },
                    "metadata": {}
                }
            ],
            "execution_count": 4
        },
        {
            "cell_type": "code",
            "source": [
                "CREATE TABLE Doctors(\r\n",
                "    doctor_id INT IDENTITY PRIMARY KEY,\r\n",
                "    snm_doctor VARCHAR(55) NOT NULL,\r\n",
                "    category VARCHAR(55) NOT NULL,\r\n",
                "    work_experience VARCHAR(55) NOT NULL,\r\n",
                "    birth_date DATE NOT NULL\r\n",
                ");"
            ],
            "metadata": {
                "azdata_cell_guid": "6daf38ec-7233-47c2-9b0c-2728b0ad7399"
            },
            "outputs": [
                {
                    "output_type": "display_data",
                    "data": {
                        "text/html": "Commands completed successfully."
                    },
                    "metadata": {}
                },
                {
                    "output_type": "display_data",
                    "data": {
                        "text/html": "Total execution time: 00:00:00.006"
                    },
                    "metadata": {}
                }
            ],
            "execution_count": 5
        },
        {
            "cell_type": "code",
            "source": [
                "DROP TABLE Doctors_work_schedule"
            ],
            "metadata": {
                "azdata_cell_guid": "e7f7704a-c188-4256-a5c9-b5f5b05f08e7"
            },
            "outputs": [
                {
                    "output_type": "error",
                    "ename": "",
                    "evalue": "Msg 3701, Level 11, State 5, Line 1\r\nНе удалось удалить таблица \"Doctors_work_schedule\", так как он не существует или отсутствуют разрешения.",
                    "traceback": []
                },
                {
                    "output_type": "display_data",
                    "data": {
                        "text/html": "Total execution time: 00:00:00.005"
                    },
                    "metadata": {}
                }
            ],
            "execution_count": 6
        },
        {
            "cell_type": "code",
            "source": [
                "CREATE TABLE Doctors_work_schedule(\r\n",
                "    doctor_id INT CONSTRAINT i_doctor_shedule FOREIGN KEY REFERENCES Doctors(doctor_id) ON DELETE CASCADE,\r\n",
                "    hospital_department VARCHAR(25) NOT NULL,\r\n",
                "    day_week VARCHAR(10) CONSTRAINT check_day CHECK (day_week IN('Monday','Tuesday','Wednesday','Thursday','Friday')),\r\n",
                "    visiting_hours VARCHAR(15) NOT NULL,\r\n",
                "    cabinet_number INT NOT NULL\r\n",
                ");"
            ],
            "metadata": {
                "azdata_cell_guid": "858691fb-efc7-4f0a-b82b-259946ea6786"
            },
            "outputs": [
                {
                    "output_type": "display_data",
                    "data": {
                        "text/html": "Commands completed successfully."
                    },
                    "metadata": {}
                },
                {
                    "output_type": "display_data",
                    "data": {
                        "text/html": "Total execution time: 00:00:00.008"
                    },
                    "metadata": {}
                }
            ],
            "execution_count": 6
        },
        {
            "cell_type": "code",
            "source": [
                "CREATE TABLE Patient_cards(\r\n",
                "    card_id  INT IDENTITY PRIMARY KEY NOT NULL,\r\n",
                "    doctor_id INT CONSTRAINT i_doctor FOREIGN KEY REFERENCES Doctors(doctor_id) ON DELETE CASCADE,\r\n",
                "    patinent_id  INT CONSTRAINT i_patinent FOREIGN KEY REFERENCES Patients(patinent_id) ON DELETE CASCADE,\r\n",
                "    visiting_date DATE NOT NULL,\r\n",
                "    illness VARCHAR(20) NOT NULL,\r\n",
                "    diagnosis VARCHAR(20),\r\n",
                "    medication VARCHAR(20),\r\n",
                "    leaving INT CONSTRAINT check_leaving CHECK (leaving IN(0,1)),\r\n",
                "    days_leaving INT,\r\n",
                ");"
            ],
            "metadata": {
                "azdata_cell_guid": "c4bc3877-fb70-43c2-9e95-612d6b2b1a4e"
            },
            "outputs": [
                {
                    "output_type": "display_data",
                    "data": {
                        "text/html": "Commands completed successfully."
                    },
                    "metadata": {}
                },
                {
                    "output_type": "display_data",
                    "data": {
                        "text/html": "Total execution time: 00:00:00.006"
                    },
                    "metadata": {}
                }
            ],
            "execution_count": 7
        },
        {
            "cell_type": "markdown",
            "source": [
                "## Заповнюємо дані до таблиці `Пацієнти`"
            ],
            "metadata": {
                "azdata_cell_guid": "3f720030-949e-4253-a06b-d1fb4cc07c7f"
            }
        },
        {
            "cell_type": "code",
            "source": [
                "INSERT INTO Patients (snm_patient,        home_adress,           sex, age, insurance_policy_number, data_creating_patient_card)\r\n",
                "VALUES ('Богданов Матвей Иванович',       'Фелевского дом 37',     'm',45,346286,     '1999-03-10'),\r\n",
                "        ('Дмитриев Харитон Георгиевич',    'Киевская дом 84',       'm',56,48562,    '1998-12-20'),\r\n",
                "        ('Орехов Адольф Демьянович',       'Борщаговская дом 75',   'm',14,246847,     '1995-03-29'),\r\n",
                "        ('Лебедев Николай Агафонович',     'Сельская дом 85',       'm',45,275345,    '1994-12-23'),\r\n",
                "        ('Щербаков Мирон Станиславович',   'Борщаговская дом 27',   'm',23,28274,     '1993-03-10'),\r\n",
                "        ('Матвеев Игорь Русланович',       'Сельская дом 11',       'm',23,234927,   '1995-12-15'),\r\n",
                "        ('Кириллов Вольдемар Юлианович',   'Воскресенская дом 27',  'm',24,26324,      '1992-12-15'),\r\n",
                "        ('Уваров Рудольф Евгеньевич',      'Независсимости дом 16', 'm',56,873486,     '1994-09-18'),\r\n",
                "        ('Одинцов Геннадий Владиславович', 'Киевская дом 85',       'm',67,28624,      '1995-05-18'),\r\n",
                "        ('Панфилов Ипполит Тимурович',     'Воскресенская дом 64',  'm',13,8224,      '1994-06-19'),\r\n",
                "        ('Смирнов Алексей Яковлевич',      'Рабочая дом 97',        'm',12,9792,   '2008-03-25'),\r\n",
                "\r\n",
                "        ('Зайцева Альберта Онисимовна',    'Донна дом 27',          'f',26,8782,     '1999-09-30'),\r\n",
                "        ('Мамонтова Динара Дмитриевна',    'Роджинская дом 88',     'f',30,12816,      '1999-06-13'),\r\n",
                "        ('Копылова Дэнна Альбертовна',     'Пушкинская дом 32',     'f',37,824134,    '2003-05-14'),\r\n",
                "        ('Терентьева Юлиана Степановна',   'Киевская дом 4',        'f',76,64348,   '2007-05-26'),\r\n",
                "        ('Матвеева Архелия Михайловна',    'Международная дом 26',  'f',36,822634,   '2005-05-29'),\r\n",
                "        ('Евсеева Данута Всеволодовна',    'Рабочая дом 92',        'f',36,82346,  '2000-04-13'),\r\n",
                "        ('Кулакова Винетта Федотовна',     'Дня Победы дом 30',     'f',26,834824,   '1994-07-12'),\r\n",
                "        ('Петухова Азалия Иринеевна',      'Фелевского дом 58',     'f',37,123474,   '1993-07-24'),\r\n",
                "        ('Осипова Изабелла Артемовна',     'Воскресенская дом 47',  'f',19,92724,      '1997-03-17'),\r\n",
                "        ('Евсеева Дэнна Валерьяновна',     'Роджинская дом 83',     'f',26,28364,     '2007-07-24'),\r\n",
                "        ('Гурьева Габриэлла Серапионовна', 'Роджинская дом 20',     'f',29,23464,     '2019-04-13'),\r\n",
                "\r\n",
                "        ('Ларионов Вячеслав Юхимович',     'Донна дом 79',          'm',50,263454,    '1969-05-24'),\r\n",
                "        ('Наумов Абрам Проклович',         'Киевская дом 31',       'm',48,2347674,   '2012-01-26'),\r\n",
                "        ('Власов Альберт Иринеевич',       'Будечева дом 33',       'm',39,238246,    '1979-05-30'),\r\n",
                "        ('Кошелев Виталий Наумович',       'Сельская дом 6',        'm',58,2348767,    '1989-07-14'),\r\n",
                "        ('Маслов Семен Богуславович',      'Будечева дом 70',       'm',69,238485,     '2016-08-21'),\r\n",
                "        ('Петухов Казимир Парфеньевич',    'Героев Дня дом 59',     'm',48,234675,     '1999-09-12'),\r\n",
                "        ('Логинов Евдоким Демьянович',     'Киевская дом 75',       'm',45,234692,   '1998-06-23'),\r\n",
                "        ('Мишин Руслан Рубенович',         'Сельская дом 29',       'm',37,826234,   '1975-12-30'),\r\n",
                "        ('Мамонтов Матвей Митрофанович',   'Реленского дом 45',     'm',12,2832348,   '1974-12-15'),\r\n",
                "        ('Мельников Зиновий Донатович',    'Держительская дом 48',  'm',35,238635,     '1983-12-26'),\r\n",
                "        ('Владимирова Дарина Юрьевна',     'Фелевского дом 81',     'f',45,926725,     '1999-02-25'),\r\n",
                "        ('Данилова Эдда Ярославовна',      'Воскресенская дом 69',  'f',67,236725,     '1989-03-10'),\r\n",
                "        ('Исакова Лариса Тимуровна',       'Героев Дня дом 19',     'f',26,82653,      '2000-04-30'),\r\n",
                "        ('Калашникова Фаина Дмитрьевна',   'Независсимости дом 54', 'f',26,28264,      '2006-06-20'),\r\n",
                "        ('Трофимова Веселина Богуславовна','Киевская дом 69',       'f',49,26346,      '2007-06-10'),\r\n",
                "        ('Мясникова Неонила Григорьевна',  'Сельская дом 70',       'f',56,234385,     '2019-06-20'),\r\n",
                "        ('Наумова Эстелла Юлиановна',      'Рабочая дом 91',        'f',55,273346,     '2017-05-20'),\r\n",
                "        ('Власова Кира Митрофановна',      'Дня Победы дом 33',     'f',36,872675,     '1995-12-10'),\r\n",
                "        ('Большакова Версавия Романовна',  'Ришельевская 48',        'f',24,83634,     '1998-12-10');"
            ],
            "metadata": {
                "azdata_cell_guid": "e5b5ea76-95de-4e01-b2ea-26dc243bd164",
                "tags": [
                    "hide_input"
                ]
            },
            "outputs": [
                {
                    "output_type": "display_data",
                    "data": {
                        "text/html": "(41 rows affected)"
                    },
                    "metadata": {}
                },
                {
                    "output_type": "display_data",
                    "data": {
                        "text/html": "Total execution time: 00:00:00.020"
                    },
                    "metadata": {}
                }
            ],
            "execution_count": 8
        },
        {
            "cell_type": "code",
            "source": [
                ""
            ],
            "metadata": {
                "azdata_cell_guid": "8a420934-5742-4444-bb84-aed25a8da4d5"
            },
            "outputs": [
                {
                    "output_type": "display_data",
                    "data": {
                        "text/html": "Commands completed successfully."
                    },
                    "metadata": {}
                },
                {
                    "output_type": "display_data",
                    "data": {
                        "text/html": "Total execution time: 00:00:00"
                    },
                    "metadata": {}
                }
            ],
            "execution_count": 12
        },
        {
            "cell_type": "code",
            "source": [
                "create table testing(\r\n",
                "    dorom DATE\r\n",
                ")"
            ],
            "metadata": {
                "azdata_cell_guid": "befd52a1-7da5-48fd-b36f-dc1c12d8a2b5",
                "tags": [
                    "hide_input"
                ]
            },
            "outputs": [
                {
                    "output_type": "error",
                    "ename": "",
                    "evalue": "Msg 2714, Level 16, State 6, Line 1\r\nВ базе данных уже существует объект с именем \"testing\".",
                    "traceback": []
                },
                {
                    "output_type": "display_data",
                    "data": {
                        "text/html": "Total execution time: 00:00:00.006"
                    },
                    "metadata": {}
                }
            ],
            "execution_count": 21
        },
        {
            "cell_type": "code",
            "source": [
                "INSERT into testing(dorom)\r\n",
                "VALUES ('2007-02-26')"
            ],
            "metadata": {
                "azdata_cell_guid": "ff3f6883-7256-4223-8089-c27b1cb95437",
                "tags": []
            },
            "outputs": [
                {
                    "output_type": "display_data",
                    "data": {
                        "text/html": "(1 row affected)"
                    },
                    "metadata": {}
                },
                {
                    "output_type": "display_data",
                    "data": {
                        "text/html": "Total execution time: 00:00:00.004"
                    },
                    "metadata": {}
                }
            ],
            "execution_count": 79
        },
        {
            "cell_type": "code",
            "source": [
                "select *from testing"
            ],
            "metadata": {
                "azdata_cell_guid": "5e048d69-df34-401c-b96d-30ee8dc490c3"
            },
            "outputs": [
                {
                    "output_type": "error",
                    "ename": "",
                    "evalue": "Msg 208, Level 16, State 1, Line 1\r\nНедопустимое имя объекта \"testing\".",
                    "traceback": []
                },
                {
                    "output_type": "display_data",
                    "data": {
                        "text/html": "Total execution time: 00:00:00"
                    },
                    "metadata": {}
                }
            ],
            "execution_count": 17
        }
    ]
}